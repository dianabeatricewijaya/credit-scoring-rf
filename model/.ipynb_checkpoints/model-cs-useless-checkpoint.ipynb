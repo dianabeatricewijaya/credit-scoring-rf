{
 "cells": [
  {
   "cell_type": "code",
   "execution_count": 2,
   "metadata": {},
   "outputs": [],
   "source": [
    "import pandas as pd\n",
    "# https://github.com/scikit-learn/scikit-learn/issues/6086\n",
    "data = pd.read_csv(\"dataset.csv\")"
   ]
  },
  {
   "cell_type": "code",
   "execution_count": 3,
   "metadata": {},
   "outputs": [
    {
     "data": {
      "text/html": [
       "<div>\n",
       "<style scoped>\n",
       "    .dataframe tbody tr th:only-of-type {\n",
       "        vertical-align: middle;\n",
       "    }\n",
       "\n",
       "    .dataframe tbody tr th {\n",
       "        vertical-align: top;\n",
       "    }\n",
       "\n",
       "    .dataframe thead th {\n",
       "        text-align: right;\n",
       "    }\n",
       "</style>\n",
       "<table border=\"1\" class=\"dataframe\">\n",
       "  <thead>\n",
       "    <tr style=\"text-align: right;\">\n",
       "      <th></th>\n",
       "      <th>religion</th>\n",
       "      <th>requestedprincipal</th>\n",
       "      <th>periodcount</th>\n",
       "      <th>gender</th>\n",
       "      <th>education</th>\n",
       "      <th>lengthofemployment</th>\n",
       "      <th>referencegender</th>\n",
       "      <th>monthlygrosssalary</th>\n",
       "      <th>residencestatus</th>\n",
       "      <th>maritalstatus</th>\n",
       "      <th>numberofdependents</th>\n",
       "      <th>employmentstatus</th>\n",
       "      <th>lineofbusiness</th>\n",
       "      <th>refrelationship</th>\n",
       "      <th>appclientage</th>\n",
       "      <th>label</th>\n",
       "    </tr>\n",
       "  </thead>\n",
       "  <tbody>\n",
       "    <tr>\n",
       "      <th>0</th>\n",
       "      <td>1</td>\n",
       "      <td>2000000.0</td>\n",
       "      <td>30</td>\n",
       "      <td>1</td>\n",
       "      <td>1</td>\n",
       "      <td>6.0</td>\n",
       "      <td>1</td>\n",
       "      <td>16886186</td>\n",
       "      <td>1</td>\n",
       "      <td>1</td>\n",
       "      <td>2.0</td>\n",
       "      <td>1</td>\n",
       "      <td>1</td>\n",
       "      <td>1</td>\n",
       "      <td>1</td>\n",
       "      <td>1</td>\n",
       "    </tr>\n",
       "    <tr>\n",
       "      <th>1</th>\n",
       "      <td>1</td>\n",
       "      <td>1000000.0</td>\n",
       "      <td>30</td>\n",
       "      <td>2</td>\n",
       "      <td>2</td>\n",
       "      <td>5.0</td>\n",
       "      <td>2</td>\n",
       "      <td>3680000</td>\n",
       "      <td>2</td>\n",
       "      <td>2</td>\n",
       "      <td>1.0</td>\n",
       "      <td>2</td>\n",
       "      <td>19</td>\n",
       "      <td>2</td>\n",
       "      <td>2</td>\n",
       "      <td>1</td>\n",
       "    </tr>\n",
       "    <tr>\n",
       "      <th>2</th>\n",
       "      <td>1</td>\n",
       "      <td>3000000.0</td>\n",
       "      <td>10</td>\n",
       "      <td>1</td>\n",
       "      <td>2</td>\n",
       "      <td>1.0</td>\n",
       "      <td>1</td>\n",
       "      <td>4000000</td>\n",
       "      <td>2</td>\n",
       "      <td>2</td>\n",
       "      <td>1.0</td>\n",
       "      <td>2</td>\n",
       "      <td>17</td>\n",
       "      <td>8</td>\n",
       "      <td>3</td>\n",
       "      <td>1</td>\n",
       "    </tr>\n",
       "    <tr>\n",
       "      <th>3</th>\n",
       "      <td>1</td>\n",
       "      <td>2000000.0</td>\n",
       "      <td>30</td>\n",
       "      <td>2</td>\n",
       "      <td>2</td>\n",
       "      <td>5.0</td>\n",
       "      <td>2</td>\n",
       "      <td>5000000</td>\n",
       "      <td>2</td>\n",
       "      <td>3</td>\n",
       "      <td>0.0</td>\n",
       "      <td>1</td>\n",
       "      <td>15</td>\n",
       "      <td>2</td>\n",
       "      <td>2</td>\n",
       "      <td>1</td>\n",
       "    </tr>\n",
       "    <tr>\n",
       "      <th>4</th>\n",
       "      <td>3</td>\n",
       "      <td>2000000.0</td>\n",
       "      <td>30</td>\n",
       "      <td>1</td>\n",
       "      <td>1</td>\n",
       "      <td>6.0</td>\n",
       "      <td>1</td>\n",
       "      <td>8000000</td>\n",
       "      <td>2</td>\n",
       "      <td>3</td>\n",
       "      <td>0.0</td>\n",
       "      <td>1</td>\n",
       "      <td>23</td>\n",
       "      <td>2</td>\n",
       "      <td>3</td>\n",
       "      <td>1</td>\n",
       "    </tr>\n",
       "  </tbody>\n",
       "</table>\n",
       "</div>"
      ],
      "text/plain": [
       "   religion  requestedprincipal  periodcount  gender  education  \\\n",
       "0         1           2000000.0           30       1          1   \n",
       "1         1           1000000.0           30       2          2   \n",
       "2         1           3000000.0           10       1          2   \n",
       "3         1           2000000.0           30       2          2   \n",
       "4         3           2000000.0           30       1          1   \n",
       "\n",
       "   lengthofemployment  referencegender  monthlygrosssalary  residencestatus  \\\n",
       "0                 6.0                1            16886186                1   \n",
       "1                 5.0                2             3680000                2   \n",
       "2                 1.0                1             4000000                2   \n",
       "3                 5.0                2             5000000                2   \n",
       "4                 6.0                1             8000000                2   \n",
       "\n",
       "   maritalstatus  numberofdependents  employmentstatus  lineofbusiness  \\\n",
       "0              1                 2.0                 1               1   \n",
       "1              2                 1.0                 2              19   \n",
       "2              2                 1.0                 2              17   \n",
       "3              3                 0.0                 1              15   \n",
       "4              3                 0.0                 1              23   \n",
       "\n",
       "   refrelationship  appclientage  label  \n",
       "0                1             1      1  \n",
       "1                2             2      1  \n",
       "2                8             3      1  \n",
       "3                2             2      1  \n",
       "4                2             3      1  "
      ]
     },
     "execution_count": 3,
     "metadata": {},
     "output_type": "execute_result"
    }
   ],
   "source": [
    "data.head()"
   ]
  },
  {
   "cell_type": "code",
   "execution_count": 4,
   "metadata": {},
   "outputs": [
    {
     "name": "stdout",
     "output_type": "stream",
     "text": [
      "<class 'pandas.core.frame.DataFrame'>\n",
      "RangeIndex: 13766 entries, 0 to 13765\n",
      "Data columns (total 16 columns):\n",
      "religion              13766 non-null int64\n",
      "requestedprincipal    13766 non-null float64\n",
      "periodcount           13766 non-null int64\n",
      "gender                13766 non-null int64\n",
      "education             13766 non-null int64\n",
      "lengthofemployment    13766 non-null float64\n",
      "referencegender       13766 non-null int64\n",
      "monthlygrosssalary    13766 non-null int64\n",
      "residencestatus       13766 non-null int64\n",
      "maritalstatus         13766 non-null int64\n",
      "numberofdependents    13766 non-null float64\n",
      "employmentstatus      13766 non-null int64\n",
      "lineofbusiness        13766 non-null int64\n",
      "refrelationship       13766 non-null int64\n",
      "appclientage          13766 non-null int64\n",
      "label                 13766 non-null int64\n",
      "dtypes: float64(3), int64(13)\n",
      "memory usage: 1.7 MB\n"
     ]
    }
   ],
   "source": [
    "data.info()"
   ]
  },
  {
   "cell_type": "code",
   "execution_count": 5,
   "metadata": {},
   "outputs": [],
   "source": [
    "data['religion']= data['religion'].astype('category')\n",
    "data['requestedprincipal']= data['requestedprincipal'].astype('int64')\n",
    "data['periodcount']= data['periodcount'].astype('category')\n",
    "data['gender']= data['gender'].astype('category')\n",
    "data['education']= data['education'].astype('category')\n",
    "data['lengthofemployment']= data['lengthofemployment'].astype('int64')\n",
    "data['referencegender']= data['referencegender'].astype('category')\n",
    "data['monthlygrosssalary']= data['monthlygrosssalary'].astype('category')\n",
    "data['residencestatus']= data['residencestatus'].astype('category')\n",
    "data['maritalstatus']= data['maritalstatus'].astype('category')\n",
    "data['numberofdependents']= data['numberofdependents'].astype('int64')\n",
    "data['employmentstatus']= data['employmentstatus'].astype('category')\n",
    "data['lineofbusiness']= data['lineofbusiness'].astype('category')\n",
    "data['refrelationship']= data['refrelationship'].astype('category')\n",
    "data['appclientage']= data['appclientage'].astype('category')\n",
    "data['label']= data['label'].astype('category')"
   ]
  },
  {
   "cell_type": "code",
   "execution_count": 6,
   "metadata": {},
   "outputs": [
    {
     "name": "stdout",
     "output_type": "stream",
     "text": [
      "<class 'pandas.core.frame.DataFrame'>\n",
      "RangeIndex: 13766 entries, 0 to 13765\n",
      "Data columns (total 16 columns):\n",
      "religion              13766 non-null category\n",
      "requestedprincipal    13766 non-null int64\n",
      "periodcount           13766 non-null category\n",
      "gender                13766 non-null category\n",
      "education             13766 non-null category\n",
      "lengthofemployment    13766 non-null int64\n",
      "referencegender       13766 non-null category\n",
      "monthlygrosssalary    13766 non-null category\n",
      "residencestatus       13766 non-null category\n",
      "maritalstatus         13766 non-null category\n",
      "numberofdependents    13766 non-null int64\n",
      "employmentstatus      13766 non-null category\n",
      "lineofbusiness        13766 non-null category\n",
      "refrelationship       13766 non-null category\n",
      "appclientage          13766 non-null category\n",
      "label                 13766 non-null category\n",
      "dtypes: category(13), int64(3)\n",
      "memory usage: 562.0 KB\n"
     ]
    }
   ],
   "source": [
    "data.info()"
   ]
  },
  {
   "cell_type": "code",
   "execution_count": 7,
   "metadata": {},
   "outputs": [],
   "source": [
    "X = data.drop('label', axis=1)\n",
    "y = data['label']"
   ]
  },
  {
   "cell_type": "code",
   "execution_count": 8,
   "metadata": {},
   "outputs": [],
   "source": [
    "from sklearn.model_selection import train_test_split\n",
    "X_train, X_test, y_train, y_test = train_test_split(X, y, test_size=0.2,random_state=1) # 80% training and 20% test\n",
    "X_train, X_val, y_train, y_val = train_test_split(X_train, y_train, test_size=0.2, random_state=1)"
   ]
  },
  {
   "cell_type": "code",
   "execution_count": 9,
   "metadata": {},
   "outputs": [
    {
     "data": {
      "text/plain": [
       "((8809, 15), (2754, 15), (2203, 15))"
      ]
     },
     "execution_count": 9,
     "metadata": {},
     "output_type": "execute_result"
    }
   ],
   "source": [
    "X_train.shape, X_test.shape, X_val.shape"
   ]
  },
  {
   "cell_type": "code",
   "execution_count": 10,
   "metadata": {},
   "outputs": [
    {
     "data": {
      "text/html": [
       "<div>\n",
       "<style scoped>\n",
       "    .dataframe tbody tr th:only-of-type {\n",
       "        vertical-align: middle;\n",
       "    }\n",
       "\n",
       "    .dataframe tbody tr th {\n",
       "        vertical-align: top;\n",
       "    }\n",
       "\n",
       "    .dataframe thead th {\n",
       "        text-align: right;\n",
       "    }\n",
       "</style>\n",
       "<table border=\"1\" class=\"dataframe\">\n",
       "  <thead>\n",
       "    <tr style=\"text-align: right;\">\n",
       "      <th></th>\n",
       "      <th>religion</th>\n",
       "      <th>requestedprincipal</th>\n",
       "      <th>periodcount</th>\n",
       "      <th>gender</th>\n",
       "      <th>education</th>\n",
       "      <th>lengthofemployment</th>\n",
       "      <th>referencegender</th>\n",
       "      <th>monthlygrosssalary</th>\n",
       "      <th>residencestatus</th>\n",
       "      <th>maritalstatus</th>\n",
       "      <th>numberofdependents</th>\n",
       "      <th>employmentstatus</th>\n",
       "      <th>lineofbusiness</th>\n",
       "      <th>refrelationship</th>\n",
       "      <th>appclientage</th>\n",
       "    </tr>\n",
       "  </thead>\n",
       "  <tbody>\n",
       "    <tr>\n",
       "      <th>7306</th>\n",
       "      <td>1</td>\n",
       "      <td>3000000</td>\n",
       "      <td>30</td>\n",
       "      <td>2</td>\n",
       "      <td>2</td>\n",
       "      <td>6</td>\n",
       "      <td>1</td>\n",
       "      <td>3652000</td>\n",
       "      <td>2</td>\n",
       "      <td>2</td>\n",
       "      <td>3</td>\n",
       "      <td>2</td>\n",
       "      <td>19</td>\n",
       "      <td>7</td>\n",
       "      <td>3</td>\n",
       "    </tr>\n",
       "    <tr>\n",
       "      <th>3889</th>\n",
       "      <td>1</td>\n",
       "      <td>2000000</td>\n",
       "      <td>30</td>\n",
       "      <td>1</td>\n",
       "      <td>1</td>\n",
       "      <td>6</td>\n",
       "      <td>1</td>\n",
       "      <td>8000000</td>\n",
       "      <td>2</td>\n",
       "      <td>1</td>\n",
       "      <td>2</td>\n",
       "      <td>1</td>\n",
       "      <td>7</td>\n",
       "      <td>2</td>\n",
       "      <td>2</td>\n",
       "    </tr>\n",
       "    <tr>\n",
       "      <th>4434</th>\n",
       "      <td>1</td>\n",
       "      <td>2000000</td>\n",
       "      <td>30</td>\n",
       "      <td>1</td>\n",
       "      <td>2</td>\n",
       "      <td>6</td>\n",
       "      <td>1</td>\n",
       "      <td>3000000</td>\n",
       "      <td>2</td>\n",
       "      <td>2</td>\n",
       "      <td>2</td>\n",
       "      <td>1</td>\n",
       "      <td>23</td>\n",
       "      <td>2</td>\n",
       "      <td>2</td>\n",
       "    </tr>\n",
       "  </tbody>\n",
       "</table>\n",
       "</div>"
      ],
      "text/plain": [
       "     religion  requestedprincipal periodcount gender education  \\\n",
       "7306        1             3000000          30      2         2   \n",
       "3889        1             2000000          30      1         1   \n",
       "4434        1             2000000          30      1         2   \n",
       "\n",
       "      lengthofemployment referencegender monthlygrosssalary residencestatus  \\\n",
       "7306                   6               1            3652000               2   \n",
       "3889                   6               1            8000000               2   \n",
       "4434                   6               1            3000000               2   \n",
       "\n",
       "     maritalstatus  numberofdependents employmentstatus lineofbusiness  \\\n",
       "7306             2                   3                2             19   \n",
       "3889             1                   2                1              7   \n",
       "4434             2                   2                1             23   \n",
       "\n",
       "     refrelationship appclientage  \n",
       "7306               7            3  \n",
       "3889               2            2  \n",
       "4434               2            2  "
      ]
     },
     "execution_count": 10,
     "metadata": {},
     "output_type": "execute_result"
    }
   ],
   "source": [
    "X_train.head(3)"
   ]
  },
  {
   "cell_type": "code",
   "execution_count": 11,
   "metadata": {},
   "outputs": [],
   "source": [
    "import sklearn.metrics as sklm\n",
    "from sklearn import tree\n",
    "from sklearn.model_selection import cross_val_score\n",
    "from sklearn.model_selection import cross_val_predict\n",
    "from sklearn.metrics import confusion_matrix"
   ]
  },
  {
   "cell_type": "code",
   "execution_count": 20,
   "metadata": {},
   "outputs": [
    {
     "name": "stdout",
     "output_type": "stream",
     "text": [
      "=== Confusion Matrix ===\n",
      "[[  34  523]\n",
      " [  50 2147]]\n",
      "              precision    recall  f1-score   support\n",
      "\n",
      "           0       0.40      0.06      0.11       557\n",
      "           1       0.80      0.98      0.88      2197\n",
      "\n",
      "   micro avg       0.79      0.79      0.79      2754\n",
      "   macro avg       0.60      0.52      0.49      2754\n",
      "weighted avg       0.72      0.79      0.73      2754\n",
      "\n",
      "Accuracy: 0.7919389978213508\n"
     ]
    }
   ],
   "source": [
    "from sklearn.ensemble import RandomForestClassifier\n",
    "from sklearn import metrics\n",
    "#Create a Gaussian Classifier\n",
    "rfc =RandomForestClassifier(n_estimators=500,max_features='sqrt', random_state=1, criterion=\"gini\",bootstrap=True)\n",
    "\n",
    "#Train the model using the training sets y_pred=clf.predict(X_test)\n",
    "rfc.fit(X_train,y_train)\n",
    "\n",
    "# prediction on test set\n",
    "rfc_predict=rfc.predict(X_test)\n",
    "from sklearn.model_selection import cross_val_score\n",
    "from sklearn.metrics import classification_report, confusion_matrix\n",
    "print(\"=== Confusion Matrix ===\")\n",
    "print(confusion_matrix(y_test, rfc_predict))\n",
    "\n",
    "print(classification_report(y_test, rfc_predict))\n",
    "print(\"Accuracy:\",metrics.accuracy_score(y_test, rfc_predict))"
   ]
  },
  {
   "cell_type": "code",
   "execution_count": 13,
   "metadata": {},
   "outputs": [
    {
     "name": "stdout",
     "output_type": "stream",
     "text": [
      "[[  40  517]\n",
      " [  53 2144]]\n",
      "Accuracy: 0.7930283224400871\n",
      "0.8064479509592463\n"
     ]
    }
   ],
   "source": [
    "from sklearn.ensemble import RandomForestClassifier\n",
    "\n",
    "from sklearn import metrics\n",
    "# build and fit the random_forest classifer using the training set\n",
    "rfc = RandomForestClassifier(bootstrap=True, max_features=3, n_estimators=100,\n",
    "                             class_weight=None, criterion='gini',\n",
    "                             max_depth=None, max_leaf_nodes=None,\n",
    "                             min_impurity_decrease=0.0, min_impurity_split=None,\n",
    "                             min_samples_leaf=1, min_samples_split=2,\n",
    "                             min_weight_fraction_leaf=0.0, n_jobs=1,\n",
    "                             oob_score=True, random_state=1, verbose=0,\n",
    "                             warm_start=False)\n",
    "\n",
    "rfc = rfc.fit(X_train, y_train)\n",
    "rfc_predict=rfc.predict(X_test)\n",
    "# # print the score for the training set\n",
    "# print(rfc.score(X_train, y_train))\n",
    "print(confusion_matrix(y_test, rfc_predict))\n",
    "\n",
    "print(\"Accuracy:\",metrics.accuracy_score(y_test, rfc_predict))\n",
    "print(rfc.oob_score_)"
   ]
  },
  {
   "cell_type": "code",
   "execution_count": null,
   "metadata": {},
   "outputs": [],
   "source": [
    "# apply the model to the test set and output score - held back data\n",
    "rfc.score(X_test, y_test)"
   ]
  },
  {
   "cell_type": "code",
   "execution_count": null,
   "metadata": {},
   "outputs": [],
   "source": [
    "rfc.score(X_val, y_val)"
   ]
  },
  {
   "cell_type": "code",
   "execution_count": null,
   "metadata": {},
   "outputs": [],
   "source": [
    "feature_importances = pd.Series(rfc.feature_importances_, index=X.columns)\n",
    "feature_importances.sort_values(ascending=True).plot(kind=\"barh\", edgecolor=\"black\", color=\"#1F77B4\", figsize=(12,5));"
   ]
  },
  {
   "cell_type": "code",
   "execution_count": null,
   "metadata": {},
   "outputs": [],
   "source": [
    "X_val = pd.DataFrame(X_val)\n",
    "y_val = pd.DataFrame(y_val)"
   ]
  },
  {
   "cell_type": "code",
   "execution_count": null,
   "metadata": {},
   "outputs": [],
   "source": [
    "data_kasus = pd.concat([X_val,y_val],axis=1)\n",
    "data_kasus.to_csv ('data_kasus.csv', index = None, header=True, sep=',')"
   ]
  },
  {
   "cell_type": "code",
   "execution_count": null,
   "metadata": {},
   "outputs": [],
   "source": [
    "# predict on some new data\n",
    "Xnew = [[1,1500000,30,2,2,3,1,3750000,2,3,0,1,19,2,4]]\n",
    "ynew = rfc.predict(Xnew)\n",
    "yprob = rfc.predict_proba(Xnew)\n",
    "print(\"X=%s, Predicted=%s, Probability=%s\" % (Xnew[0], ynew[0], yprob[0]))"
   ]
  },
  {
   "cell_type": "code",
   "execution_count": null,
   "metadata": {},
   "outputs": [],
   "source": [
    "import pickle\n",
    "# save the model to disk\n",
    "filename = 'model-cs.sav'\n",
    "pickle.dump(rfc, open(filename, 'wb'))"
   ]
  },
  {
   "cell_type": "code",
   "execution_count": null,
   "metadata": {},
   "outputs": [],
   "source": [
    "# some time later...\n",
    " \n",
    "# load the model from disk\n",
    "loaded_model = pickle.load(open(filename, 'rb'))\n",
    "result = loaded_model.predict([[1,1000000,30,2,2,6,2,5500000,2,2,3,1,19,2,2]])\n",
    "probability = loaded_model.predict_proba([[1,1000000,30,2,2,6,2,5500000,2,2,3,1,19,2,2]])\n",
    "print(result, probability)"
   ]
  },
  {
   "cell_type": "code",
   "execution_count": null,
   "metadata": {},
   "outputs": [],
   "source": [
    "from sklearn.metrics import classification_report"
   ]
  },
  {
   "cell_type": "code",
   "execution_count": null,
   "metadata": {},
   "outputs": [],
   "source": [
    "rfc_predict=rfc.predict(X_test)"
   ]
  },
  {
   "cell_type": "code",
   "execution_count": null,
   "metadata": {},
   "outputs": [],
   "source": [
    "print(confusion_matrix(y_test, rfc))"
   ]
  },
  {
   "cell_type": "code",
   "execution_count": null,
   "metadata": {},
   "outputs": [],
   "source": []
  }
 ],
 "metadata": {
  "kernelspec": {
   "display_name": "Python 3",
   "language": "python",
   "name": "python3"
  },
  "language_info": {
   "codemirror_mode": {
    "name": "ipython",
    "version": 3
   },
   "file_extension": ".py",
   "mimetype": "text/x-python",
   "name": "python",
   "nbconvert_exporter": "python",
   "pygments_lexer": "ipython3",
   "version": "3.7.3"
  }
 },
 "nbformat": 4,
 "nbformat_minor": 2
}
