{
 "cells": [
  {
   "cell_type": "markdown",
   "metadata": {},
   "source": [
    "## Masukan library Pandas dan dataset ke dalam variabel data"
   ]
  },
  {
   "cell_type": "code",
   "execution_count": 44,
   "metadata": {},
   "outputs": [],
   "source": [
    "import pandas as pd\n",
    "from sklearn import metrics\n",
    "from sklearn.model_selection import train_test_split\n",
    "from sklearn.ensemble import RandomForestClassifier\n",
    "from sklearn.metrics import classification_report, confusion_matrix"
   ]
  },
  {
   "cell_type": "code",
   "execution_count": 45,
   "metadata": {},
   "outputs": [],
   "source": [
    "data = pd.read_csv(\"dataset.csv\", sep=';')"
   ]
  },
  {
   "cell_type": "code",
   "execution_count": 46,
   "metadata": {},
   "outputs": [
    {
     "data": {
      "text/html": [
       "<div>\n",
       "<style scoped>\n",
       "    .dataframe tbody tr th:only-of-type {\n",
       "        vertical-align: middle;\n",
       "    }\n",
       "\n",
       "    .dataframe tbody tr th {\n",
       "        vertical-align: top;\n",
       "    }\n",
       "\n",
       "    .dataframe thead th {\n",
       "        text-align: right;\n",
       "    }\n",
       "</style>\n",
       "<table border=\"1\" class=\"dataframe\">\n",
       "  <thead>\n",
       "    <tr style=\"text-align: right;\">\n",
       "      <th></th>\n",
       "      <th>religion</th>\n",
       "      <th>requestedprincipal</th>\n",
       "      <th>periodcount</th>\n",
       "      <th>gender</th>\n",
       "      <th>education</th>\n",
       "      <th>lengthofemployment</th>\n",
       "      <th>referencegender</th>\n",
       "      <th>monthlygrosssalary</th>\n",
       "      <th>residencestatus</th>\n",
       "      <th>maritalstatus</th>\n",
       "      <th>numberofdependents</th>\n",
       "      <th>employmentstatus</th>\n",
       "      <th>lineofbusiness</th>\n",
       "      <th>refrelationship</th>\n",
       "      <th>appclientage</th>\n",
       "      <th>label</th>\n",
       "    </tr>\n",
       "  </thead>\n",
       "  <tbody>\n",
       "    <tr>\n",
       "      <th>0</th>\n",
       "      <td>1</td>\n",
       "      <td>2000000.0</td>\n",
       "      <td>30</td>\n",
       "      <td>1</td>\n",
       "      <td>1</td>\n",
       "      <td>6.0</td>\n",
       "      <td>1</td>\n",
       "      <td>16886186</td>\n",
       "      <td>1</td>\n",
       "      <td>1</td>\n",
       "      <td>2.0</td>\n",
       "      <td>1</td>\n",
       "      <td>1</td>\n",
       "      <td>1</td>\n",
       "      <td>1</td>\n",
       "      <td>1</td>\n",
       "    </tr>\n",
       "    <tr>\n",
       "      <th>1</th>\n",
       "      <td>1</td>\n",
       "      <td>1000000.0</td>\n",
       "      <td>30</td>\n",
       "      <td>2</td>\n",
       "      <td>2</td>\n",
       "      <td>5.0</td>\n",
       "      <td>2</td>\n",
       "      <td>3680000</td>\n",
       "      <td>2</td>\n",
       "      <td>2</td>\n",
       "      <td>1.0</td>\n",
       "      <td>2</td>\n",
       "      <td>19</td>\n",
       "      <td>2</td>\n",
       "      <td>2</td>\n",
       "      <td>1</td>\n",
       "    </tr>\n",
       "    <tr>\n",
       "      <th>2</th>\n",
       "      <td>1</td>\n",
       "      <td>3000000.0</td>\n",
       "      <td>10</td>\n",
       "      <td>1</td>\n",
       "      <td>2</td>\n",
       "      <td>1.0</td>\n",
       "      <td>1</td>\n",
       "      <td>4000000</td>\n",
       "      <td>2</td>\n",
       "      <td>2</td>\n",
       "      <td>1.0</td>\n",
       "      <td>2</td>\n",
       "      <td>17</td>\n",
       "      <td>8</td>\n",
       "      <td>3</td>\n",
       "      <td>1</td>\n",
       "    </tr>\n",
       "    <tr>\n",
       "      <th>3</th>\n",
       "      <td>1</td>\n",
       "      <td>2000000.0</td>\n",
       "      <td>30</td>\n",
       "      <td>2</td>\n",
       "      <td>2</td>\n",
       "      <td>5.0</td>\n",
       "      <td>2</td>\n",
       "      <td>5000000</td>\n",
       "      <td>2</td>\n",
       "      <td>3</td>\n",
       "      <td>0.0</td>\n",
       "      <td>1</td>\n",
       "      <td>15</td>\n",
       "      <td>2</td>\n",
       "      <td>2</td>\n",
       "      <td>1</td>\n",
       "    </tr>\n",
       "    <tr>\n",
       "      <th>4</th>\n",
       "      <td>3</td>\n",
       "      <td>2000000.0</td>\n",
       "      <td>30</td>\n",
       "      <td>1</td>\n",
       "      <td>1</td>\n",
       "      <td>6.0</td>\n",
       "      <td>1</td>\n",
       "      <td>8000000</td>\n",
       "      <td>2</td>\n",
       "      <td>3</td>\n",
       "      <td>0.0</td>\n",
       "      <td>1</td>\n",
       "      <td>23</td>\n",
       "      <td>2</td>\n",
       "      <td>3</td>\n",
       "      <td>1</td>\n",
       "    </tr>\n",
       "  </tbody>\n",
       "</table>\n",
       "</div>"
      ],
      "text/plain": [
       "   religion  requestedprincipal  periodcount  gender  education  \\\n",
       "0         1           2000000.0           30       1          1   \n",
       "1         1           1000000.0           30       2          2   \n",
       "2         1           3000000.0           10       1          2   \n",
       "3         1           2000000.0           30       2          2   \n",
       "4         3           2000000.0           30       1          1   \n",
       "\n",
       "   lengthofemployment  referencegender  monthlygrosssalary  residencestatus  \\\n",
       "0                 6.0                1            16886186                1   \n",
       "1                 5.0                2             3680000                2   \n",
       "2                 1.0                1             4000000                2   \n",
       "3                 5.0                2             5000000                2   \n",
       "4                 6.0                1             8000000                2   \n",
       "\n",
       "   maritalstatus  numberofdependents  employmentstatus  lineofbusiness  \\\n",
       "0              1                 2.0                 1               1   \n",
       "1              2                 1.0                 2              19   \n",
       "2              2                 1.0                 2              17   \n",
       "3              3                 0.0                 1              15   \n",
       "4              3                 0.0                 1              23   \n",
       "\n",
       "   refrelationship  appclientage  label  \n",
       "0                1             1      1  \n",
       "1                2             2      1  \n",
       "2                8             3      1  \n",
       "3                2             2      1  \n",
       "4                2             3      1  "
      ]
     },
     "execution_count": 46,
     "metadata": {},
     "output_type": "execute_result"
    }
   ],
   "source": [
    "data.head()"
   ]
  },
  {
   "cell_type": "markdown",
   "metadata": {},
   "source": [
    "## Merubah tipe data dari int64 menjadi kategori"
   ]
  },
  {
   "cell_type": "code",
   "execution_count": 47,
   "metadata": {},
   "outputs": [],
   "source": [
    "data['religion']= data['religion'].astype('category')\n",
    "data['requestedprincipal']= data['requestedprincipal'].astype('int64')\n",
    "data['periodcount']= data['periodcount'].astype('category')\n",
    "data['gender']= data['gender'].astype('category')\n",
    "data['education']= data['education'].astype('category')\n",
    "data['lengthofemployment']= data['lengthofemployment'].astype('int64')\n",
    "data['referencegender']= data['referencegender'].astype('category')\n",
    "data['monthlygrosssalary']= data['monthlygrosssalary'].astype('category')\n",
    "data['residencestatus']= data['residencestatus'].astype('category')\n",
    "data['maritalstatus']= data['maritalstatus'].astype('category')\n",
    "data['numberofdependents']= data['numberofdependents'].astype('int64')\n",
    "data['employmentstatus']= data['employmentstatus'].astype('category')\n",
    "data['lineofbusiness']= data['lineofbusiness'].astype('category')\n",
    "data['refrelationship']= data['refrelationship'].astype('category')\n",
    "data['appclientage']= data['appclientage'].astype('category')\n",
    "data['label']= data['label'].astype('category')"
   ]
  },
  {
   "cell_type": "markdown",
   "metadata": {},
   "source": [
    "## Melakukan input fitur ke dalam variabel X dan label ke dalam variabel y"
   ]
  },
  {
   "cell_type": "code",
   "execution_count": 48,
   "metadata": {},
   "outputs": [],
   "source": [
    "X = data.drop('label', axis=1)\n",
    "y = data['label']"
   ]
  },
  {
   "cell_type": "markdown",
   "metadata": {
    "scrolled": false
   },
   "source": [
    "## Melakukan pembagian data train dan data test"
   ]
  },
  {
   "cell_type": "code",
   "execution_count": 49,
   "metadata": {},
   "outputs": [],
   "source": [
    "X_train, X_test, y_train, y_test = train_test_split(X, y, test_size = 0.3, random_state = 0)"
   ]
  },
  {
   "cell_type": "code",
   "execution_count": 50,
   "metadata": {},
   "outputs": [
    {
     "name": "stdout",
     "output_type": "stream",
     "text": [
      "Total data Train Good Applicant: 7300\n",
      "Total data Train Bad Applicant: 1800 \n",
      "\n"
     ]
    }
   ],
   "source": [
    "print(\"Total data Train Good Applicant: {}\".format(sum(y_train==1)))\n",
    "print(\"Total data Train Bad Applicant: {} \\n\".format(sum(y_train==0)))"
   ]
  },
  {
   "cell_type": "code",
   "execution_count": 51,
   "metadata": {},
   "outputs": [
    {
     "name": "stdout",
     "output_type": "stream",
     "text": [
      "Total data Train Good Applicant: 3158\n",
      "Total data Train Bad Applicant: 742 \n",
      "\n"
     ]
    }
   ],
   "source": [
    "print(\"Total data Train Good Applicant: {}\".format(sum(y_test==1)))\n",
    "print(\"Total data Train Bad Applicant: {} \\n\".format(sum(y_test==0)))"
   ]
  },
  {
   "cell_type": "code",
   "execution_count": 52,
   "metadata": {},
   "outputs": [
    {
     "data": {
      "text/plain": [
       "((9100, 15), (3900, 15))"
      ]
     },
     "execution_count": 52,
     "metadata": {},
     "output_type": "execute_result"
    }
   ],
   "source": [
    "X_train.shape, X_test.shape"
   ]
  },
  {
   "cell_type": "code",
   "execution_count": 43,
   "metadata": {
    "scrolled": false
   },
   "outputs": [
    {
     "name": "stdout",
     "output_type": "stream",
     "text": [
      "=== Model Random Forest dengan n_estimators : 25 dan mtry : 2 ===\n",
      "=== Confusion Matrix ===\n",
      "[[  64  678]\n",
      " [ 118 3040]]\n",
      "\n",
      "\n",
      "Train Accuracy 0.9950549450549451\n",
      "Test Accuracy 0.7958974358974359\n",
      "AUC score: 0.5244439740598045\n",
      "======================================================================\n",
      "=== Model Random Forest dengan n_estimators : 25 dan mtry : 4 ===\n",
      "=== Confusion Matrix ===\n",
      "[[  72  670]\n",
      " [ 128 3030]]\n",
      "\n",
      "\n",
      "Train Accuracy 0.9953846153846154\n",
      "Test Accuracy 0.7953846153846154\n",
      "AUC score: 0.5282515290820046\n",
      "======================================================================\n",
      "=== Model Random Forest dengan n_estimators : 25 dan mtry : 8 ===\n",
      "=== Confusion Matrix ===\n",
      "[[  91  651]\n",
      " [ 180 2978]]\n",
      "\n",
      "\n",
      "Train Accuracy 0.9949450549450549\n",
      "Test Accuracy 0.786923076923077\n",
      "AUC score: 0.5328217046853155\n",
      "======================================================================\n",
      "=== Model Random Forest dengan n_estimators : 50 dan mtry : 2 ===\n",
      "=== Confusion Matrix ===\n",
      "[[  61  681]\n",
      " [ 109 3049]]\n",
      "\n",
      "\n",
      "Train Accuracy 0.9983516483516484\n",
      "Test Accuracy 0.7974358974358975\n",
      "AUC score: 0.5238473632190697\n",
      "======================================================================\n",
      "=== Model Random Forest dengan n_estimators : 50 dan mtry : 4 ===\n",
      "=== Confusion Matrix ===\n",
      "[[  80  662]\n",
      " [ 112 3046]]\n",
      "\n",
      "\n",
      "Train Accuracy 0.9982417582417582\n",
      "Test Accuracy 0.8015384615384615\n",
      "AUC score: 0.536175613553223\n",
      "======================================================================\n",
      "=== Model Random Forest dengan n_estimators : 50 dan mtry : 8 ===\n",
      "=== Confusion Matrix ===\n",
      "[[  91  651]\n",
      " [ 136 3022]]\n",
      "\n",
      "\n",
      "Train Accuracy 0.9981318681318682\n",
      "Test Accuracy 0.7982051282051282\n",
      "AUC score: 0.5397881391375005\n",
      "======================================================================\n",
      "=== Model Random Forest dengan n_estimators : 100 dan mtry : 2 ===\n",
      "=== Confusion Matrix ===\n",
      "[[  54  688]\n",
      " [  90 3068]]\n",
      "\n",
      "\n",
      "Train Accuracy 0.9986813186813187\n",
      "Test Accuracy 0.8005128205128205\n",
      "AUC score: 0.5221386151458923\n",
      "======================================================================\n",
      "=== Model Random Forest dengan n_estimators : 100 dan mtry : 4 ===\n",
      "=== Confusion Matrix ===\n",
      "[[  68  674]\n",
      " [  97 3061]]\n",
      "\n",
      "\n",
      "Train Accuracy 0.9986813186813187\n",
      "Test Accuracy 0.8023076923076923\n",
      "AUC score: 0.5304642810199229\n",
      "======================================================================\n",
      "=== Model Random Forest dengan n_estimators : 100 dan mtry : 8 ===\n",
      "=== Confusion Matrix ===\n",
      "[[  82  660]\n",
      " [ 116 3042]]\n",
      "\n",
      "\n",
      "Train Accuracy 0.9986813186813187\n",
      "Test Accuracy 0.801025641025641\n",
      "AUC score: 0.5368900102251758\n",
      "======================================================================\n",
      "=== Model Random Forest dengan n_estimators : 500 dan mtry : 2 ===\n",
      "=== Confusion Matrix ===\n",
      "[[  52  690]\n",
      " [  76 3082]]\n",
      "\n",
      "\n",
      "Train Accuracy 0.9986813186813187\n",
      "Test Accuracy 0.8035897435897436\n",
      "AUC score: 0.5230074990312542\n",
      "======================================================================\n",
      "=== Model Random Forest dengan n_estimators : 500 dan mtry : 4 ===\n",
      "=== Confusion Matrix ===\n",
      "[[  63  679]\n",
      " [  81 3077]]\n",
      "\n",
      "\n",
      "Train Accuracy 0.9986813186813187\n",
      "Test Accuracy 0.8051282051282052\n",
      "AUC score: 0.5296282576744297\n",
      "======================================================================\n",
      "=== Model Random Forest dengan n_estimators : 500 dan mtry : 8 ===\n",
      "=== Confusion Matrix ===\n",
      "[[  70  672]\n",
      " [  92 3066]]\n",
      "\n",
      "\n",
      "Train Accuracy 0.9986813186813187\n",
      "Test Accuracy 0.8041025641025641\n",
      "AUC score: 0.532603630193459\n",
      "======================================================================\n",
      "=== Model Random Forest dengan n_estimators : 1000 dan mtry : 2 ===\n",
      "=== Confusion Matrix ===\n",
      "[[  53  689]\n",
      " [  75 3083]]\n",
      "\n",
      "\n",
      "Train Accuracy 0.9986813186813187\n",
      "Test Accuracy 0.8041025641025641\n",
      "AUC score: 0.5238396815344251\n",
      "======================================================================\n",
      "=== Model Random Forest dengan n_estimators : 1000 dan mtry : 4 ===\n",
      "=== Confusion Matrix ===\n",
      "[[  64  678]\n",
      " [  82 3076]]\n",
      "\n",
      "\n",
      "Train Accuracy 0.9986813186813187\n",
      "Test Accuracy 0.8051282051282052\n",
      "AUC score: 0.5301437840661375\n",
      "======================================================================\n",
      "=== Model Random Forest dengan n_estimators : 1000 dan mtry : 8 ===\n",
      "=== Confusion Matrix ===\n",
      "[[  73  669]\n",
      " [  90 3068]]\n",
      "\n",
      "\n",
      "Train Accuracy 0.9986813186813187\n",
      "Test Accuracy 0.8053846153846154\n",
      "AUC score: 0.53494184964724\n",
      "======================================================================\n"
     ]
    }
   ],
   "source": [
    "tree = [25, 50, 100, 500, 1000]\n",
    "mtry = [2, 4, 8]\n",
    "for x in tree:\n",
    "    for y in mtry:\n",
    "        rfc = RandomForestClassifier(bootstrap=True, max_features=y, n_estimators=x,\n",
    "                                     class_weight=None, criterion='gini',\n",
    "                                     max_depth=None, max_leaf_nodes=None,\n",
    "                                     min_impurity_decrease=0.0, min_impurity_split=None,\n",
    "                                     min_samples_leaf=1, min_samples_split=2,\n",
    "                                     min_weight_fraction_leaf=0.0, n_jobs=1,\n",
    "                                     oob_score=True, random_state=1, verbose=0,\n",
    "                                     warm_start=False)\n",
    "\n",
    "        print(\"=== Model Random Forest dengan n_estimators :\", x ,\"dan mtry :\",y,\"===\")\n",
    "        rfc = rfc.fit(X_train, y_train)\n",
    "        rfc_predict=rfc.predict(X_test)\n",
    "        print(\"=== Confusion Matrix ===\")\n",
    "        print(confusion_matrix(y_test, rfc_predict))\n",
    "        print('\\n')\n",
    "        print(\"Train Accuracy\",rfc.score(X_train, y_train))\n",
    "        print(\"Test Accuracy\",rfc.score(X_test, y_test))\n",
    "        print(\"AUC score:\",metrics.roc_auc_score(y_test, rfc_predict))\n",
    "        print(\"======================================================================\")"
   ]
  },
  {
   "cell_type": "code",
   "execution_count": null,
   "metadata": {},
   "outputs": [],
   "source": []
  },
  {
   "cell_type": "raw",
   "metadata": {},
   "source": [
    "import pandas as pd\n",
    "data_kasus = pd.read_csv(\"data_kasus.csv\", sep=';')\n",
    "X_kasus = data_kasus.drop('label', axis=1)\n",
    "y_kasus = data_kasus['label']"
   ]
  },
  {
   "cell_type": "code",
   "execution_count": null,
   "metadata": {
    "scrolled": true
   },
   "outputs": [],
   "source": [
    "import sys\n",
    "import numpy\n",
    "numpy.set_printoptions(threshold=sys.maxsize)\n",
    "rfc_predict"
   ]
  },
  {
   "cell_type": "code",
   "execution_count": null,
   "metadata": {},
   "outputs": [],
   "source": [
    "print(\"Total data Train Good Applicant: {}\".format(sum(y_kasus==1)))\n",
    "print(\"Total data Train Bad Applicant: {} \\n\".format(sum(y_kasus==0)))"
   ]
  },
  {
   "cell_type": "code",
   "execution_count": 99,
   "metadata": {},
   "outputs": [
    {
     "name": "stdout",
     "output_type": "stream",
     "text": [
      "=== Model Random Forest dengan n_estimators : 4 dan mtry : 1000 ===\n",
      "Train Accuracy 0.62\n"
     ]
    }
   ],
   "source": [
    "rfc = RandomForestClassifier(bootstrap=True, max_features=8, n_estimators=50,\n",
    "                                     class_weight=None, criterion='gini',\n",
    "                                     max_depth=None, max_leaf_nodes=None,\n",
    "                                     min_impurity_decrease=0.0, min_impurity_split=None,\n",
    "                                     min_samples_leaf=1, min_samples_split=2,\n",
    "                                     min_weight_fraction_leaf=0.0, n_jobs=1,\n",
    "                                     oob_score=True, random_state=1, verbose=0,\n",
    "                                     warm_start=False)\n",
    "\n",
    "print(\"=== Model Random Forest dengan n_estimators :\", 4,\"dan mtry :\",1000,\"===\")\n",
    "rfc = rfc.fit(X_train, y_train)\n",
    "rfc_predict=rfc.predict(X_kasus)\n",
    "from sklearn import metrics\n",
    "print(\"Train Accuracy\",rfc.score(X_kasus, y_kasus))"
   ]
  },
  {
   "cell_type": "code",
   "execution_count": 100,
   "metadata": {},
   "outputs": [
    {
     "data": {
      "text/plain": [
       "array([1, 1, 1, 1, 1, 1, 1, 1, 1, 1, 1, 1, 1, 1, 0, 1, 1, 1, 1, 1, 1, 1,\n",
       "       1, 1, 1, 1, 1, 1, 1, 1, 0, 1, 1, 1, 1, 0, 1, 1, 1, 1, 1, 1, 1, 1,\n",
       "       1, 1, 1, 1, 1, 1])"
      ]
     },
     "execution_count": 100,
     "metadata": {},
     "output_type": "execute_result"
    }
   ],
   "source": [
    "rfc_predict"
   ]
  },
  {
   "cell_type": "code",
   "execution_count": null,
   "metadata": {},
   "outputs": [],
   "source": [
    "rfc_predict = pd.DataFrame (rfc_predict)"
   ]
  },
  {
   "cell_type": "code",
   "execution_count": null,
   "metadata": {},
   "outputs": [],
   "source": [
    "asd = pd.concat([rfc_predict, y_kasus],axis=1)"
   ]
  },
  {
   "cell_type": "code",
   "execution_count": null,
   "metadata": {},
   "outputs": [],
   "source": [
    "asd"
   ]
  },
  {
   "cell_type": "code",
   "execution_count": null,
   "metadata": {},
   "outputs": [],
   "source": [
    "# apply the model to the test set and output score - held back data\n",
    "rfc.score(X_test, y_test)"
   ]
  },
  {
   "cell_type": "code",
   "execution_count": null,
   "metadata": {},
   "outputs": [],
   "source": [
    "print(confusion_matrix(y_val, rfc_predict_val))"
   ]
  },
  {
   "cell_type": "code",
   "execution_count": null,
   "metadata": {},
   "outputs": [],
   "source": [
    "# predict on some new data\n",
    "Xnew = [[1,2000000,30,2,3,6,2,8700000,2,3,0,  1,12,1,3]]\n",
    "ynew = rfc.predict(Xnew)\n",
    "yprob = rfc.predict_proba(Xnew)\n",
    "print(\"X=%s, Predicted=%s, Probability=%s\" % (Xnew[0], ynew[0], yprob[0]))"
   ]
  },
  {
   "cell_type": "code",
   "execution_count": null,
   "metadata": {},
   "outputs": [],
   "source": [
    "import pickle\n",
    "# save the model to disk\n",
    "filename = 'model-cs.sav'\n",
    "pickle.dump(rfc, open(filename, 'wb'))"
   ]
  },
  {
   "cell_type": "code",
   "execution_count": null,
   "metadata": {},
   "outputs": [],
   "source": [
    "# some time later...\n",
    " \n",
    "# load the model from disk\n",
    "loaded_model = pickle.load(open(filename, 'rb'))\n",
    "result = loaded_model.predict([[1,1000000,30,2,2,6,2,5500000,2,2,3,1,19,2,2]])\n",
    "probability = loaded_model.predict_proba([[1,1000000,30,2,2,6,2,5500000,2,2,3,1,19,2,2]])\n",
    "print(result, probability)"
   ]
  },
  {
   "cell_type": "code",
   "execution_count": null,
   "metadata": {},
   "outputs": [],
   "source": [
    "from sklearn.metrics import classification_report"
   ]
  },
  {
   "cell_type": "code",
   "execution_count": null,
   "metadata": {},
   "outputs": [],
   "source": [
    "rfc_predict=rfc.predict(X_test)"
   ]
  },
  {
   "cell_type": "code",
   "execution_count": null,
   "metadata": {},
   "outputs": [],
   "source": [
    "print(confusion_matrix(y_test, rfc))"
   ]
  },
  {
   "cell_type": "code",
   "execution_count": null,
   "metadata": {},
   "outputs": [],
   "source": []
  }
 ],
 "metadata": {
  "kernelspec": {
   "display_name": "Python 3",
   "language": "python",
   "name": "python3"
  },
  "language_info": {
   "codemirror_mode": {
    "name": "ipython",
    "version": 3
   },
   "file_extension": ".py",
   "mimetype": "text/x-python",
   "name": "python",
   "nbconvert_exporter": "python",
   "pygments_lexer": "ipython3",
   "version": "3.7.3"
  }
 },
 "nbformat": 4,
 "nbformat_minor": 2
}
